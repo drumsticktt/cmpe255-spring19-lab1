{
 "cells": [
  {
   "cell_type": "code",
   "execution_count": 1,
   "metadata": {},
   "outputs": [],
   "source": [
    "matplotlib inline"
   ]
  },
  {
   "cell_type": "code",
   "execution_count": 2,
   "metadata": {},
   "outputs": [
    {
     "data": {
      "image/png": "[encoded data removed]",
      "text/plain": [
       "<Figure size 432x288 with 1 Axes>"
      ]
     },
     "metadata": {
      "needs_background": "light"
     },
     "output_type": "display_data"
    }
   ],
   "source": [
    "\"\"\"PART 1\"\"\"\n",
    "from matplotlib import pyplot\n",
    "\n",
    "# https://tradingeconomics.com/united-states/gdp\n",
    "years= [2010, 2011, 2012, 2013, 2014, 2015, 2016, 2017]\n",
    "gdp = [14964.37, 15517.93, 16155.26, 16691.52, 17427.61, 18120.71, 18624.48, 19390.6]\n",
    "\n",
    "pyplot.plot(years, gdp, color='green', marker='o', linestyle='solid')\n",
    "pyplot.title(\"Nominal GDP of United States\")\n",
    "pyplot.ylabel(\"$ in Billions\")\n",
    "pyplot.show()"
   ]
  },
  {
   "cell_type": "code",
   "execution_count": 3,
   "metadata": {},
   "outputs": [
    {
     "name": "stdout",
     "output_type": "stream",
     "text": [
      "User 1 has 3 friends.\n",
      "User 0 has 2 friends.\n",
      "User 1 has 3 friends.\n",
      "User 2 has 3 friends.\n",
      "User 3 has 3 friends.\n",
      "User 4 has 2 friends.\n",
      "User 5 has 2 friends.\n",
      "User 6 has 3 friends.\n",
      "User 7 has 2 friends.\n",
      "User 8 has 3 friends.\n",
      "User 9 has 1 friends.\n",
      "\n",
      "Sorted Users: \n",
      "[{'id': 1, 'name': 'Dunn'},\n",
      " {'id': 2, 'name': 'Sue'},\n",
      " {'id': 3, 'name': 'Chi'},\n",
      " {'id': 6, 'name': 'Hicks'},\n",
      " {'id': 8, 'name': 'Kate'},\n",
      " {'id': 0, 'name': 'Hero'},\n",
      " {'id': 4, 'name': 'Thor'},\n",
      " {'id': 5, 'name': 'Clive'},\n",
      " {'id': 7, 'name': 'Devin'},\n",
      " {'id': 9, 'name': 'Klein'}]\n"
     ]
    }
   ],
   "source": [
    "\"\"\"PART 2\"\"\"\n",
    "import pprint\n",
    "users =[\n",
    "    { \"id\":0, \"name\": \"Hero\" },\n",
    "    { \"id\":1, \"name\": \"Dunn\" },\n",
    "    { \"id\":2, \"name\": \"Sue\" },\n",
    "    { \"id\":3, \"name\": \"Chi\" },\n",
    "    { \"id\":4, \"name\": \"Thor\" },\n",
    "    { \"id\":5, \"name\": \"Clive\" },\n",
    "    { \"id\":6, \"name\": \"Hicks\" },\n",
    "    { \"id\":7, \"name\": \"Devin\" },\n",
    "    { \"id\":8, \"name\": \"Kate\" },\n",
    "    { \"id\":9, \"name\": \"Klein\" }    \n",
    "]\n",
    "\n",
    "friendship = [\n",
    "    (0, 1),\n",
    "    (0, 2),\n",
    "    (1, 2),\n",
    "    (1, 3),\n",
    "    (2, 3),\n",
    "    (3, 4),\n",
    "    (4, 5),\n",
    "    (5, 6),\n",
    "    (6, 7),\n",
    "    (6, 8),\n",
    "    (7, 8),\n",
    "    (8, 9)\n",
    "]\n",
    "\n",
    "def num_friends(user):\n",
    "    '''\n",
    "    Find number of friends for a given user\n",
    "    '''\n",
    "    friends = 0\n",
    "    \n",
    "    for i in friendship:\n",
    "        if (i[0] == user[\"id\"] or i[1] == user[\"id\"]):\n",
    "            friends = friends + 1\n",
    "    s = \"User {0} has {1} friends.\".format(str(user[\"id\"]),format(str(friends)))\n",
    "    print(s)\n",
    "    return friends\n",
    "\n",
    "def sort_by_num_friends():\n",
    "    '''README.md\n",
    "    Sort from \"most friends\" to \"least friends\"\n",
    "    '''    \n",
    "    users.sort(key=num_friends, reverse=True)\n",
    "    print(\"\\nSorted Users: \")\n",
    "    pprint.pprint(users)\n",
    "    pass\n",
    "\n",
    "num_friends(users[1])\n",
    "sort_by_num_friends()"
   ]
  },
  {
   "cell_type": "code",
   "execution_count": null,
   "metadata": {},
   "outputs": [],
   "source": []
  },
  {
   "cell_type": "code",
   "execution_count": null,
   "metadata": {},
   "outputs": [],
   "source": []
  }
 ],
 "metadata": {
  "kernelspec": {
   "display_name": "Python 3",
   "language": "python",
   "name": "python3"
  },
  "language_info": {
   "codemirror_mode": {
    "name": "ipython",
    "version": 3
   },
   "file_extension": ".py",
   "mimetype": "text/x-python",
   "name": "python",
   "nbconvert_exporter": "python",
   "pygments_lexer": "ipython3",
   "version": "3.7.2"
  }
 },
 "nbformat": 4,
 "nbformat_minor": 2
}
